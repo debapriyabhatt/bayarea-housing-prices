{
 "cells": [
  {
   "cell_type": "markdown",
   "id": "50c5df93-e0ad-4243-97f4-cc647a2912f1",
   "metadata": {},
   "source": [
    "# FHFA House Price Index (HPI) Data\n",
    "## HPI Data Exploration "
   ]
  },
  {
   "cell_type": "code",
   "execution_count": 1,
   "id": "585f8d22-2656-4f98-82c4-444568533a5f",
   "metadata": {},
   "outputs": [],
   "source": [
    "# import libraries\n",
    "import csv\n",
    "import pandas as pd \n",
    "import openpyxl\n",
    "import tabulate"
   ]
  },
  {
   "cell_type": "markdown",
   "id": "9c3ee9fb-2a04-4aa4-971c-5670409ecff1",
   "metadata": {},
   "source": [
    "### Read Data File"
   ]
  },
  {
   "cell_type": "code",
   "execution_count": 2,
   "id": "2c5af82d-f4d4-42f2-b9c5-1723e50cdb09",
   "metadata": {
    "scrolled": true
   },
   "outputs": [],
   "source": [
    "# define the main filepath\n",
    "filepath = '/Users/dbhattacharjee/Desktop/python_practice/bayarea-housing-prices'"
   ]
  },
  {
   "cell_type": "code",
   "execution_count": 3,
   "id": "1e4d1be7-a700-4bd9-b5d1-839f6c074286",
   "metadata": {
    "scrolled": true
   },
   "outputs": [],
   "source": [
    "# create a dataframe from the csv file \n",
    "hpi_data_df = pd.read_csv(filepath + '/data/fhfa_hpi_master.csv')"
   ]
  },
  {
   "cell_type": "markdown",
   "id": "e2e7e640-d379-42c2-b3a0-4a501f4e43aa",
   "metadata": {},
   "source": [
    "### Inital Exploration"
   ]
  },
  {
   "cell_type": "markdown",
   "id": "bbc10778-cbad-4c52-8fef-ac09ea959592",
   "metadata": {},
   "source": [
    "We will first check out what kind of data the csv file has"
   ]
  },
  {
   "cell_type": "code",
   "execution_count": 4,
   "id": "547801a5-44e2-4984-b81b-355baf45b6d5",
   "metadata": {},
   "outputs": [
    {
     "name": "stdout",
     "output_type": "stream",
     "text": [
      "The columns are:  ['hpi_type', 'hpi_flavor', 'frequency', 'level', 'place_name', 'place_id', 'yr', 'period', 'index_nsa', 'index_sa']\n"
     ]
    }
   ],
   "source": [
    "# extract the column names\n",
    "column_names = list(hpi_data_df.columns)\n",
    "print('The columns are: ', column_names)"
   ]
  }
 ],
 "metadata": {
  "kernelspec": {
   "display_name": "Python 3 (ipykernel)",
   "language": "python",
   "name": "python3"
  },
  "language_info": {
   "codemirror_mode": {
    "name": "ipython",
    "version": 3
   },
   "file_extension": ".py",
   "mimetype": "text/x-python",
   "name": "python",
   "nbconvert_exporter": "python",
   "pygments_lexer": "ipython3",
   "version": "3.12.9"
  }
 },
 "nbformat": 4,
 "nbformat_minor": 5
}
